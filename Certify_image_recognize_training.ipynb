{
 "cells": [
  {
   "cell_type": "markdown",
   "metadata": {},
   "source": [
    "## 訓練資料"
   ]
  },
  {
   "cell_type": "code",
   "execution_count": 1,
   "metadata": {},
   "outputs": [],
   "source": [
    "# gpu setting\n",
    "from tensorflow.compat.v1 import ConfigProto\n",
    "from tensorflow.compat.v1 import InteractiveSession\n",
    "\n",
    "config = ConfigProto()\n",
    "config.gpu_options.allow_growth = True\n",
    "session = InteractiveSession(config=config)"
   ]
  },
  {
   "cell_type": "code",
   "execution_count": 2,
   "metadata": {},
   "outputs": [
    {
     "name": "stdout",
     "output_type": "stream",
     "text": [
      "env: KERAS_BACKEND=tensorflow\n"
     ]
    }
   ],
   "source": [
    "%env KERAS_BACKEND=tensorflow"
   ]
  },
  {
   "cell_type": "code",
   "execution_count": 3,
   "metadata": {},
   "outputs": [],
   "source": [
    "%matplotlib inline\n",
    "import pandas as pd\n",
    "import numpy as np\n",
    "import matplotlib.pyplot as plt"
   ]
  },
  {
   "cell_type": "code",
   "execution_count": 4,
   "metadata": {},
   "outputs": [],
   "source": [
    "from tensorflow.keras.models import Sequential\n",
    "from tensorflow.keras.layers import Dense, Activation\n",
    "from tensorflow.keras.optimizers import SGD"
   ]
  },
  {
   "cell_type": "code",
   "execution_count": 5,
   "metadata": {},
   "outputs": [],
   "source": [
    "from tensorflow.keras.utils import to_categorical"
   ]
  },
  {
   "cell_type": "markdown",
   "metadata": {},
   "source": [
    "## 資料準備\n",
    "* imageX : (.jpg), 讀取方式 : mpimg.imread()\n",
    "* LabelY : (int), 讀取方式 : pd.read_csv()"
   ]
  },
  {
   "cell_type": "code",
   "execution_count": 6,
   "metadata": {},
   "outputs": [],
   "source": [
    "# Labels Y\n",
    "data = pd.read_csv('./certify_processed/labels.csv', encoding = 'big5')\n",
    "Y = data.iloc[0, 1:]\n",
    "\n",
    "# image X\n",
    "import matplotlib.image as mpimg\n",
    "img_dir = './certify_processed/images/'\n",
    "imgs = np.empty([3000, 12, 12])  # 存放圖片\n",
    "\n",
    "for img_index in range(3000):\n",
    "    # 讀取圖檔\n",
    "    img = mpimg.imread(img_dir+\"crop%04d.jpg\"%(img_index))\n",
    "    imgs[img_index]=img\n",
    "X = imgs"
   ]
  },
  {
   "cell_type": "markdown",
   "metadata": {},
   "source": [
    "## train_test_split"
   ]
  },
  {
   "cell_type": "code",
   "execution_count": 7,
   "metadata": {},
   "outputs": [],
   "source": [
    "from sklearn.model_selection import train_test_split\n",
    "\n",
    "x_train, x_test, y_train, y_test = train_test_split(X,\n",
    "                                                    Y[:3000],\n",
    "                                                    test_size = 0.2,\n",
    "                                                    random_state = 0)"
   ]
  },
  {
   "cell_type": "markdown",
   "metadata": {},
   "source": [
    "## 標準化\n",
    "* /255 (因為mping.imread讀進 0~255)"
   ]
  },
  {
   "cell_type": "code",
   "execution_count": 9,
   "metadata": {},
   "outputs": [],
   "source": [
    "# Normalize\n",
    "x_train /= 255.\n",
    "x_test /= 255."
   ]
  },
  {
   "cell_type": "code",
   "execution_count": 66,
   "metadata": {},
   "outputs": [
    {
     "data": {
      "text/plain": [
       "((2400,), (600,))"
      ]
     },
     "execution_count": 66,
     "metadata": {},
     "output_type": "execute_result"
    }
   ],
   "source": [
    "y_train.shape, y_test.shape"
   ]
  },
  {
   "cell_type": "code",
   "execution_count": 67,
   "metadata": {},
   "outputs": [
    {
     "data": {
      "text/plain": [
       "((2400, 12, 12), (600, 12, 12))"
      ]
     },
     "execution_count": 67,
     "metadata": {},
     "output_type": "execute_result"
    }
   ],
   "source": [
    "x_train.shape, x_test.shape"
   ]
  },
  {
   "cell_type": "markdown",
   "metadata": {},
   "source": [
    "## Preprocessing\n",
    "* 變成一維陣列 (12x12=144)\n",
    "* 分成 10 類"
   ]
  },
  {
   "cell_type": "code",
   "execution_count": 70,
   "metadata": {},
   "outputs": [],
   "source": [
    "x_train = x_train.reshape(x_train.shape[0], 144)\n",
    "x_test = x_test.reshape(x_test.shape[0], 144)\n",
    "\n",
    "y_train = to_categorical(y_train, 10)\n",
    "y_test = to_categorical(y_test, 10)"
   ]
  },
  {
   "cell_type": "code",
   "execution_count": 71,
   "metadata": {},
   "outputs": [
    {
     "data": {
      "text/plain": [
       "((2400, 144), (600, 144))"
      ]
     },
     "execution_count": 71,
     "metadata": {},
     "output_type": "execute_result"
    }
   ],
   "source": [
    "x_train.shape, x_test.shape"
   ]
  },
  {
   "cell_type": "markdown",
   "metadata": {},
   "source": [
    "## 模型建置\n",
    "* 3 層 200 節點, 一層 10 sorftmax"
   ]
  },
  {
   "cell_type": "code",
   "execution_count": 72,
   "metadata": {},
   "outputs": [
    {
     "name": "stdout",
     "output_type": "stream",
     "text": [
      "Model: \"sequential\"\n",
      "_________________________________________________________________\n",
      "Layer (type)                 Output Shape              Param #   \n",
      "=================================================================\n",
      "dense (Dense)                (None, 200)               29000     \n",
      "_________________________________________________________________\n",
      "activation (Activation)      (None, 200)               0         \n",
      "_________________________________________________________________\n",
      "dense_1 (Dense)              (None, 200)               40200     \n",
      "_________________________________________________________________\n",
      "activation_1 (Activation)    (None, 200)               0         \n",
      "_________________________________________________________________\n",
      "dense_2 (Dense)              (None, 200)               40200     \n",
      "_________________________________________________________________\n",
      "activation_2 (Activation)    (None, 200)               0         \n",
      "_________________________________________________________________\n",
      "dense_3 (Dense)              (None, 10)                2010      \n",
      "_________________________________________________________________\n",
      "activation_3 (Activation)    (None, 10)                0         \n",
      "=================================================================\n",
      "Total params: 111,410\n",
      "Trainable params: 111,410\n",
      "Non-trainable params: 0\n",
      "_________________________________________________________________\n"
     ]
    }
   ],
   "source": [
    "model = Sequential([Dense(200, input_dim=144),\n",
    "                    Activation('relu'),\n",
    "                    Dense(200),\n",
    "                    Activation('relu'),\n",
    "                    Dense(200),\n",
    "                    Activation('relu'),\n",
    "                    Dense(10),\n",
    "                    Activation('softmax'),\n",
    "                    ])\n",
    "model.summary()"
   ]
  },
  {
   "cell_type": "code",
   "execution_count": 73,
   "metadata": {},
   "outputs": [
    {
     "name": "stdout",
     "output_type": "stream",
     "text": [
      "Train on 2400 samples\n",
      "Epoch 1/10\n",
      "2400/2400 [==============================] - 1s 234us/sample - loss: 0.0413 - accuracy: 0.7854\n",
      "Epoch 2/10\n",
      "2400/2400 [==============================] - 0s 109us/sample - loss: 0.0021 - accuracy: 0.9987\n",
      "Epoch 3/10\n",
      "2400/2400 [==============================] - 0s 140us/sample - loss: 0.0010 - accuracy: 0.9987\n",
      "Epoch 4/10\n",
      "2400/2400 [==============================] - 0s 113us/sample - loss: 7.6811e-04 - accuracy: 0.9987\n",
      "Epoch 5/10\n",
      "2400/2400 [==============================] - 0s 111us/sample - loss: 6.3925e-04 - accuracy: 0.9987\n",
      "Epoch 6/10\n",
      "2400/2400 [==============================] - 0s 111us/sample - loss: 5.6752e-04 - accuracy: 0.9987\n",
      "Epoch 7/10\n",
      "2400/2400 [==============================] - 0s 119us/sample - loss: 5.1391e-04 - accuracy: 0.9987\n",
      "Epoch 8/10\n",
      "2400/2400 [==============================] - 0s 127us/sample - loss: 4.7638e-04 - accuracy: 0.9987\n",
      "Epoch 9/10\n",
      "2400/2400 [==============================] - 0s 121us/sample - loss: 4.4287e-04 - accuracy: 0.9987\n",
      "Epoch 10/10\n",
      "2400/2400 [==============================] - 0s 125us/sample - loss: 4.2648e-04 - accuracy: 0.9987\n"
     ]
    },
    {
     "data": {
      "text/plain": [
       "<tensorflow.python.keras.callbacks.History at 0x23d67284eb8>"
      ]
     },
     "execution_count": 73,
     "metadata": {},
     "output_type": "execute_result"
    }
   ],
   "source": [
    "# fitting\n",
    "model.compile(loss='mse', optimizer=SGD(lr=0.5), metrics=['accuracy'])\n",
    "model.fit(x_train, y_train, batch_size=10, epochs=10)"
   ]
  },
  {
   "cell_type": "code",
   "execution_count": 74,
   "metadata": {},
   "outputs": [
    {
     "name": "stdout",
     "output_type": "stream",
     "text": [
      "600/600 [==============================] - 0s 123us/sample - loss: 2.0746e-04 - accuracy: 1.0000\n"
     ]
    },
    {
     "data": {
      "text/plain": [
       "[0.00020746123077818387, 1.0]"
      ]
     },
     "execution_count": 74,
     "metadata": {},
     "output_type": "execute_result"
    }
   ],
   "source": [
    "# testing data\n",
    "model.evaluate(x_test, y_test)"
   ]
  },
  {
   "cell_type": "code",
   "execution_count": 94,
   "metadata": {},
   "outputs": [],
   "source": [
    "# save parameter of model\n",
    "model_json = model.to_json()\n",
    "open('Certiy_Recognize.json', 'w').write(model_json)\n",
    "model.save('Certiy_Recognize.h5')"
   ]
  },
  {
   "cell_type": "markdown",
   "metadata": {},
   "source": [
    "## 剩下 1000 筆\n",
    "* unknown_img : (.jpg) 讀取方式 : mpimg.imread\n",
    "* reshape : 需要轉換 144\n",
    "* 亂數看結果"
   ]
  },
  {
   "cell_type": "code",
   "execution_count": 88,
   "metadata": {},
   "outputs": [],
   "source": [
    "unknown_imgs = np.empty([1000, 12, 12])\n",
    "\n",
    "for img_index in range(3000, 4000, 1):\n",
    "    # 讀取圖檔\n",
    "    img = mpimg.imread(img_dir+\"crop%04d.jpg\"%(img_index))\n",
    "    unknown_imgs[img_index-3000]=img\n",
    "\n",
    "unknown_imgs = unknown_imgs.reshape(1000, 144)"
   ]
  },
  {
   "cell_type": "code",
   "execution_count": 89,
   "metadata": {},
   "outputs": [],
   "source": [
    "predict = model.predict_classes(unknown_imgs)"
   ]
  },
  {
   "cell_type": "code",
   "execution_count": 93,
   "metadata": {},
   "outputs": [
    {
     "data": {
      "image/png": "[encoded data removed]",
      "text/plain": [
       "<Figure size 432x288 with 10 Axes>"
      ]
     },
     "metadata": {},
     "output_type": "display_data"
    }
   ],
   "source": [
    "column_len = 10\n",
    "pick = np.random.randint(0,1000, column_len)\n",
    "\n",
    "for i in range(column_len):\n",
    "    plt.subplot(1,column_len,i+1)\n",
    "    plt.imshow(unknown_imgs[pick[i]].reshape(12, 12), cmap='Greys')\n",
    "    plt.title(predict[pick[i]])\n",
    "    plt.axis(\"off\")"
   ]
  },
  {
   "cell_type": "code",
   "execution_count": null,
   "metadata": {},
   "outputs": [],
   "source": []
  },
  {
   "cell_type": "code",
   "execution_count": null,
   "metadata": {},
   "outputs": [],
   "source": []
  }
 ],
 "metadata": {
  "kernelspec": {
   "display_name": "Python 3",
   "language": "python",
   "name": "python3"
  },
  "language_info": {
   "codemirror_mode": {
    "name": "ipython",
    "version": 3
   },
   "file_extension": ".py",
   "mimetype": "text/x-python",
   "name": "python",
   "nbconvert_exporter": "python",
   "pygments_lexer": "ipython3",
   "version": "3.7.3"
  }
 },
 "nbformat": 4,
 "nbformat_minor": 4
}
