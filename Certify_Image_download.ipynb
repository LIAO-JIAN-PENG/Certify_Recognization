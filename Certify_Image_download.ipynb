{
 "cells": [
  {
   "cell_type": "markdown",
   "metadata": {},
   "source": [
    "## 使用 Selenium 截圖\n",
    "* 驗證碼網站 : \"https://course.nuk.edu.tw/Sel/Certify_Image.asp?\"\n",
    "* requirement : PIL, selenium , chrome_dirver"
   ]
  },
  {
   "cell_type": "code",
   "execution_count": 5,
   "metadata": {},
   "outputs": [],
   "source": [
    "from selenium import webdriver\n",
    "from PIL import Image"
   ]
  },
  {
   "cell_type": "markdown",
   "metadata": {},
   "source": [
    "## 截圖\n",
    "* left, top, rigth, bottom 設定邊界\n",
    "* get_cpptcha:\n",
    "    * driver : Chrome()\n",
    "    * element : img_tag\n",
    "    * path : '.\\certify\\'"
   ]
  },
  {
   "cell_type": "code",
   "execution_count": 87,
   "metadata": {},
   "outputs": [],
   "source": [
    "# 截圖函式\n",
    "def get_captcha(driver, element, path):\n",
    "    driver.save_screenshot(path)          # 先將目前的 screen 存起來\n",
    "    location = element.location           # 取得圖片 element 的位置\n",
    "    size = element.size                   # 取得圖片 element 的大小\n",
    "    left = location['x']+125                # 決定上下左右邊界(自行校正)\n",
    "    top = location['y']+82.5\n",
    "#     right = location['x'] + size['width']\n",
    "#     bottom = location['y'] + size['height']\n",
    "    right = location['x'] + 175\n",
    "    bottom = location['y'] + 95.5\n",
    "    image = Image.open(path)              # 將 screen load 至 memory\n",
    "    image = image.crop((left, top, right, bottom)) # 根據位置剪裁圖片\n",
    "    image.save(path, 'png')               # 重新儲存圖片為 png 格"
   ]
  },
  {
   "cell_type": "code",
   "execution_count": 90,
   "metadata": {},
   "outputs": [],
   "source": [
    "import time\n",
    "\n",
    "save_dir = '.\\certify\\img_%04d'\n",
    "\n",
    "browser = webdriver.Chrome()\n",
    "\n",
    "# 下載 1000 張 certify_image\n",
    "for i in range(1000):\n",
    "    browser.get('https://course.nuk.edu.tw/Sel/Certify_Image.asp?')\n",
    "    get_captcha(browser, browser.find_element_by_tag_name(\"img\"), save_dir%(i)+'.png') # 存檔\n",
    "    time.sleep(1) # 避免被擋\n",
    "    \n",
    "browser.quit()"
   ]
  },
  {
   "cell_type": "code",
   "execution_count": null,
   "metadata": {},
   "outputs": [],
   "source": []
  }
 ],
 "metadata": {
  "kernelspec": {
   "display_name": "Python 3",
   "language": "python",
   "name": "python3"
  },
  "language_info": {
   "codemirror_mode": {
    "name": "ipython",
    "version": 3
   },
   "file_extension": ".py",
   "mimetype": "text/x-python",
   "name": "python",
   "nbconvert_exporter": "python",
   "pygments_lexer": "ipython3",
   "version": "3.7.3"
  }
 },
 "nbformat": 4,
 "nbformat_minor": 4
}
