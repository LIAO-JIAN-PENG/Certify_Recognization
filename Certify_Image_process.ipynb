{
 "cells": [
  {
   "cell_type": "markdown",
   "metadata": {},
   "source": [
    "## 圖片切割\n",
    "* 影像黑白化\n",
    "* 影像切割"
   ]
  },
  {
   "cell_type": "code",
   "execution_count": 1,
   "metadata": {},
   "outputs": [],
   "source": [
    "import cv2\n",
    "import numpy as np\n",
    "import os\n",
    "\n",
    "img_dir = './certify/'\n",
    "save_dir = './certify_processed/images/'\n",
    "\n",
    "if not os.path.isdir(save_dir):\n",
    "    os.mkdir(save_dir)"
   ]
  },
  {
   "cell_type": "markdown",
   "metadata": {},
   "source": [
    "## 圖片處理\n",
    "* 讀取使用 cv2 套件 (.png)\n",
    "* 反白處理 : img = 255 - img\n",
    "* 特徵強化 : img = img * float(strength)\n",
    "* 切分成 4 張 12x12 的圖片\n",
    "* 儲存照片 : (.jpg), 格式 : crop0000.jpg, 位置 : ./certify_processed/images/"
   ]
  },
  {
   "cell_type": "code",
   "execution_count": 5,
   "metadata": {},
   "outputs": [],
   "source": [
    "# 黑白影像\n",
    "for img_index in range(1000):\n",
    "    # 讀取圖檔\n",
    "    img = cv2.imread(img_dir+\"img_%4d.png\"%(img_index), 0)\n",
    "    img = 255 - img\n",
    "    strength = 5\n",
    "    img = img * float(strength)\n",
    "    img[img > 255] = 255\n",
    "\n",
    "    crop_imgs = []\n",
    "    for x_temp in range(0, 48, 12):\n",
    "        \n",
    "        # 裁切區域的 x 與 y 座標（左上角）\n",
    "        x = x_temp\n",
    "        y = 0\n",
    "\n",
    "        # 裁切區域的長度與寬度 (12x12)\n",
    "        w = 12\n",
    "        h = 12\n",
    "\n",
    "        crop_imgs.append(img[y:y+h, x:x+w])\n",
    "    \n",
    "    for j in range(4):\n",
    "        cv2.imwrite(save_dir+'crop%04d.jpg'%(j+img_index*4), crop_imgs[j])"
   ]
  },
  {
   "cell_type": "code",
   "execution_count": null,
   "metadata": {},
   "outputs": [],
   "source": []
  }
 ],
 "metadata": {
  "kernelspec": {
   "display_name": "Python 3",
   "language": "python",
   "name": "python3"
  },
  "language_info": {
   "codemirror_mode": {
    "name": "ipython",
    "version": 3
   },
   "file_extension": ".py",
   "mimetype": "text/x-python",
   "name": "python",
   "nbconvert_exporter": "python",
   "pygments_lexer": "ipython3",
   "version": "3.7.3"
  }
 },
 "nbformat": 4,
 "nbformat_minor": 4
}
